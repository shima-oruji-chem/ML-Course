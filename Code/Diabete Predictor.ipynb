{
 "cells": [
  {
   "cell_type": "markdown",
   "id": "5a3cd0a8",
   "metadata": {},
   "source": [
    "# CSCE 585: Machine Learning Systems Final Project\n",
    "\n",
    "## Project Title: Diabetes Prediction Using Machine Learning\n",
    "\n",
    "*Diabetes Mellitus* is among critical diseases and lots of people are suffering from it in recent years. According to the recent studies, age, obesity, lack of exercise, hereditary diabetes, living style, bad diet, high blood pressure, etc. can cause Diabetes Mellitus. People having diabetes have high risk of diseases such as heart disease, kidney disease, stroke, eye problem, and nerve damage. With the recent advancements in the field of machine learning (ML), several researchers have tried to apply ML models to perform Diabetes prediction in patients based on various factors. However, there is no rigorous and comprehensive study on the evaluation of different ML models to determine the best practices in this specific problem.\n",
    "\n",
    "In this project, we aim at implementing and evaluating different classification methods (e.g., decision tree, random forest, support vector machine, and neural network) on the given dataset and determine which methods perform better and under which conditions. We will use the Pima Indians onset of diabetes dataset. This is a standard machine learning dataset from the UCI Machine Learning repository. It describes patient medical record data for Pima Indians and whether they had an onset of diabetes within five years.\n",
    "\n",
    "\n",
    "Our dataset has the following features:\n",
    "* Number of Instances: 768\n",
    "\n",
    "* Number of Attributes: 8 plus class \n",
    "\n",
    "* For Each row in the dataset (all numeric-valued), we :\n",
    "   * Number of times pregnant\n",
    "   * Plasma glucose concentration a 2 hours in an oral glucose tolerance test\n",
    "   * Diastolic blood pressure (mm Hg)\n",
    "   * Triceps skin fold thickness (mm)\n",
    "   * 2-Hour serum insulin (mu U/ml)\n",
    "   * Body mass index (weight in kg/(height in m)^2)\n",
    "   * Diabetes pedigree function\n",
    "   * Age (years)\n",
    "   * Class variable (0 or 1)"
   ]
  },
  {
   "cell_type": "markdown",
   "id": "da74adfe",
   "metadata": {},
   "source": []
  },
  {
   "cell_type": "code",
   "execution_count": 28,
   "id": "78b8b581",
   "metadata": {},
   "outputs": [],
   "source": [
    "# import the necessary modules here!\n",
    "import pandas as pd\n",
    "import numpy as np\n",
    "import matplotlib\n",
    "import os"
   ]
  },
  {
   "cell_type": "code",
   "execution_count": 26,
   "id": "11b3d608",
   "metadata": {},
   "outputs": [],
   "source": [
    "# form the path to the dataset \n",
    "current_path_str = os.getcwd()\n",
    "current_path_list = current_path_str.split(\"/\")\n",
    "dataset_path_list = current_path_list[:-1]\n",
    "dataset_path_list.append(\"Dataset\")\n",
    "dataset_path_str = \"/\".join(dataset_path_list)\n",
    "path = dataset_path_str + \"/diabetes.csv\"\n",
    "\n",
    "# load the dataset to pandas dataframe\n",
    "df = pd.read_csv(path)"
   ]
  },
  {
   "cell_type": "code",
   "execution_count": 27,
   "id": "21fcf89f",
   "metadata": {},
   "outputs": [
    {
     "data": {
      "text/plain": [
       "Index(['Pregnancies', 'Glucose', 'BloodPressure', 'SkinThickness', 'Insulin',\n",
       "       'BMI', 'DiabetesPedigreeFunction', 'Age', 'Outcome'],\n",
       "      dtype='object')"
      ]
     },
     "execution_count": 27,
     "metadata": {},
     "output_type": "execute_result"
    }
   ],
   "source": [
    "df.columns"
   ]
  },
  {
   "cell_type": "markdown",
   "id": "ef06f931",
   "metadata": {},
   "source": []
  },
  {
   "cell_type": "code",
   "execution_count": null,
   "id": "3760d0bc",
   "metadata": {},
   "outputs": [],
   "source": []
  }
 ],
 "metadata": {
  "kernelspec": {
   "display_name": "Python 3 (ipykernel)",
   "language": "python",
   "name": "python3"
  },
  "language_info": {
   "codemirror_mode": {
    "name": "ipython",
    "version": 3
   },
   "file_extension": ".py",
   "mimetype": "text/x-python",
   "name": "python",
   "nbconvert_exporter": "python",
   "pygments_lexer": "ipython3",
   "version": "3.10.6"
  }
 },
 "nbformat": 4,
 "nbformat_minor": 5
}
